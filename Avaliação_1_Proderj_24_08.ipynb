{
  "nbformat": 4,
  "nbformat_minor": 0,
  "metadata": {
    "kernelspec": {
      "display_name": "Python 3",
      "language": "python",
      "name": "python3"
    },
    "language_info": {
      "codemirror_mode": {
        "name": "ipython",
        "version": 3
      },
      "file_extension": ".py",
      "mimetype": "text/x-python",
      "name": "python",
      "nbconvert_exporter": "python",
      "pygments_lexer": "ipython3",
      "version": "3.7.3"
    },
    "colab": {
      "provenance": [],
      "include_colab_link": true
    }
  },
  "cells": [
    {
      "cell_type": "markdown",
      "metadata": {
        "id": "view-in-github",
        "colab_type": "text"
      },
      "source": [
        "<a href=\"https://colab.research.google.com/github/VictorAlfa/ITLab_Python/blob/main/Avalia%C3%A7%C3%A3o_1_Proderj_24_08.ipynb\" target=\"_parent\"><img src=\"https://colab.research.google.com/assets/colab-badge.svg\" alt=\"Open In Colab\"/></a>"
      ]
    },
    {
      "cell_type": "markdown",
      "source": [
        "#NOMES:\n",
        "* VICTOR AMADEU OLIVEIRA PIRES DOS SANTOS"
      ],
      "metadata": {
        "id": "l5Qm-dQ9TLas"
      }
    },
    {
      "cell_type": "markdown",
      "metadata": {
        "id": "8kih40y9pksj"
      },
      "source": [
        "# Avaliação\n",
        "\n"
      ]
    },
    {
      "cell_type": "code",
      "source": [
        "!pip install numpy  #instala a biblioteca Numpy\n",
        "import numpy as np"
      ],
      "metadata": {
        "id": "fz7PSJXCUErt",
        "colab": {
          "base_uri": "https://localhost:8080/"
        },
        "outputId": "8d0f4613-bf4a-45d1-b576-ef6963a193ad"
      },
      "execution_count": 78,
      "outputs": [
        {
          "output_type": "stream",
          "name": "stdout",
          "text": [
            "Requirement already satisfied: numpy in /usr/local/lib/python3.10/dist-packages (1.23.5)\n"
          ]
        }
      ]
    },
    {
      "cell_type": "markdown",
      "metadata": {
        "id": "nSqOopEApksl"
      },
      "source": [
        "#### Considere a seguinte lista:"
      ]
    },
    {
      "cell_type": "code",
      "metadata": {
        "id": "8ZA2_XTzpksm"
      },
      "source": [
        "lista_A = [2, 29, 8, 98, 10, 3, -4, 9, 10, 98]"
      ],
      "execution_count": 79,
      "outputs": []
    },
    {
      "cell_type": "markdown",
      "metadata": {
        "id": "bGv0VS7tpksr"
      },
      "source": [
        "#### Usando as funções apresentadas, faça os exercícios de 1 à 4:\n",
        "\n",
        "1) Imprima a soma do maior e o menor elemento da lista:\n"
      ]
    },
    {
      "cell_type": "code",
      "source": [
        "soma_max_min = max(lista_A) + min(lista_A)\n",
        "print(f'soma maior e menor é {soma_max_min}')"
      ],
      "metadata": {
        "colab": {
          "base_uri": "https://localhost:8080/"
        },
        "id": "HWXRH-Qtd6fo",
        "outputId": "79fe720e-a02d-4609-a072-0763294a15b0"
      },
      "execution_count": 80,
      "outputs": [
        {
          "output_type": "stream",
          "name": "stdout",
          "text": [
            "soma maior e menor é 94\n"
          ]
        }
      ]
    },
    {
      "cell_type": "markdown",
      "metadata": {
        "id": "PuArl5-0pksw"
      },
      "source": [
        "2) Imprima o número de ocorrências do maior elemento da lista:"
      ]
    },
    {
      "cell_type": "code",
      "source": [
        "max_count = lista_A.count(max(lista_A))\n",
        "print(f'o numero {max(lista_A)} aparece {max_count} vezes')"
      ],
      "metadata": {
        "colab": {
          "base_uri": "https://localhost:8080/"
        },
        "id": "dYrEP_4Teg6g",
        "outputId": "bacc4eb4-0a6d-4145-8e3e-8a7f7c99f7ec"
      },
      "execution_count": 81,
      "outputs": [
        {
          "output_type": "stream",
          "name": "stdout",
          "text": [
            "o numero 98 aparece 2 vezes\n"
          ]
        }
      ]
    },
    {
      "cell_type": "markdown",
      "metadata": {
        "id": "tv1uvGmmpks1"
      },
      "source": [
        "3) Imprima o maior número ímpar da lista utilizando um código para calculá-lo:"
      ]
    },
    {
      "cell_type": "code",
      "source": [
        "max_impar = max([num for num in lista_A if num%2 != 0])\n",
        "print(f'max_impar é {max_impar}')\n",
        "\n",
        "#max_impar = float()\n",
        "#for num in lista_A:\n",
        "#  if num %2 !=0 and num > max_impar:\n",
        "#    max_impar = num\n",
        "#    break"
      ],
      "metadata": {
        "colab": {
          "base_uri": "https://localhost:8080/"
        },
        "id": "d38iklS8f5Xh",
        "outputId": "7f1aa979-f3bc-43d3-9d12-ee86cbaf4172"
      },
      "execution_count": 82,
      "outputs": [
        {
          "output_type": "stream",
          "name": "stdout",
          "text": [
            "max_impar é 29\n"
          ]
        }
      ]
    },
    {
      "cell_type": "markdown",
      "metadata": {
        "id": "8PBchreRpks6"
      },
      "source": [
        "4) Imprima o maior elemento da lista elevado ao quadrado:"
      ]
    },
    {
      "cell_type": "code",
      "source": [
        "max_lista_A = max(lista_A)\n",
        "print(f'max² é {max_lista_A**2}')\n",
        "\n",
        "#max_max = np.square(max(lista_A))\n",
        "#print(max_max)"
      ],
      "metadata": {
        "colab": {
          "base_uri": "https://localhost:8080/"
        },
        "id": "xPEES9sniV6Q",
        "outputId": "26183b43-f0bb-4c13-ed39-28fe4767ae6f"
      },
      "execution_count": 83,
      "outputs": [
        {
          "output_type": "stream",
          "name": "stdout",
          "text": [
            "max² é 9604\n"
          ]
        }
      ]
    },
    {
      "cell_type": "markdown",
      "metadata": {
        "id": "P8viaLzmpks-"
      },
      "source": [
        "5) Crie uma lista com todos os números pares de 0 até 1000 (incluído)."
      ]
    },
    {
      "cell_type": "code",
      "source": [
        "lista_par = [num for num in range(0,1001) if num%2 == 0]\n",
        "print(lista_par)"
      ],
      "metadata": {
        "colab": {
          "base_uri": "https://localhost:8080/"
        },
        "id": "uLYBO0eAkDhZ",
        "outputId": "361c535c-6d1d-4240-9388-0f9dfd2b4cc7"
      },
      "execution_count": 84,
      "outputs": [
        {
          "output_type": "stream",
          "name": "stdout",
          "text": [
            "[0, 2, 4, 6, 8, 10, 12, 14, 16, 18, 20, 22, 24, 26, 28, 30, 32, 34, 36, 38, 40, 42, 44, 46, 48, 50, 52, 54, 56, 58, 60, 62, 64, 66, 68, 70, 72, 74, 76, 78, 80, 82, 84, 86, 88, 90, 92, 94, 96, 98, 100, 102, 104, 106, 108, 110, 112, 114, 116, 118, 120, 122, 124, 126, 128, 130, 132, 134, 136, 138, 140, 142, 144, 146, 148, 150, 152, 154, 156, 158, 160, 162, 164, 166, 168, 170, 172, 174, 176, 178, 180, 182, 184, 186, 188, 190, 192, 194, 196, 198, 200, 202, 204, 206, 208, 210, 212, 214, 216, 218, 220, 222, 224, 226, 228, 230, 232, 234, 236, 238, 240, 242, 244, 246, 248, 250, 252, 254, 256, 258, 260, 262, 264, 266, 268, 270, 272, 274, 276, 278, 280, 282, 284, 286, 288, 290, 292, 294, 296, 298, 300, 302, 304, 306, 308, 310, 312, 314, 316, 318, 320, 322, 324, 326, 328, 330, 332, 334, 336, 338, 340, 342, 344, 346, 348, 350, 352, 354, 356, 358, 360, 362, 364, 366, 368, 370, 372, 374, 376, 378, 380, 382, 384, 386, 388, 390, 392, 394, 396, 398, 400, 402, 404, 406, 408, 410, 412, 414, 416, 418, 420, 422, 424, 426, 428, 430, 432, 434, 436, 438, 440, 442, 444, 446, 448, 450, 452, 454, 456, 458, 460, 462, 464, 466, 468, 470, 472, 474, 476, 478, 480, 482, 484, 486, 488, 490, 492, 494, 496, 498, 500, 502, 504, 506, 508, 510, 512, 514, 516, 518, 520, 522, 524, 526, 528, 530, 532, 534, 536, 538, 540, 542, 544, 546, 548, 550, 552, 554, 556, 558, 560, 562, 564, 566, 568, 570, 572, 574, 576, 578, 580, 582, 584, 586, 588, 590, 592, 594, 596, 598, 600, 602, 604, 606, 608, 610, 612, 614, 616, 618, 620, 622, 624, 626, 628, 630, 632, 634, 636, 638, 640, 642, 644, 646, 648, 650, 652, 654, 656, 658, 660, 662, 664, 666, 668, 670, 672, 674, 676, 678, 680, 682, 684, 686, 688, 690, 692, 694, 696, 698, 700, 702, 704, 706, 708, 710, 712, 714, 716, 718, 720, 722, 724, 726, 728, 730, 732, 734, 736, 738, 740, 742, 744, 746, 748, 750, 752, 754, 756, 758, 760, 762, 764, 766, 768, 770, 772, 774, 776, 778, 780, 782, 784, 786, 788, 790, 792, 794, 796, 798, 800, 802, 804, 806, 808, 810, 812, 814, 816, 818, 820, 822, 824, 826, 828, 830, 832, 834, 836, 838, 840, 842, 844, 846, 848, 850, 852, 854, 856, 858, 860, 862, 864, 866, 868, 870, 872, 874, 876, 878, 880, 882, 884, 886, 888, 890, 892, 894, 896, 898, 900, 902, 904, 906, 908, 910, 912, 914, 916, 918, 920, 922, 924, 926, 928, 930, 932, 934, 936, 938, 940, 942, 944, 946, 948, 950, 952, 954, 956, 958, 960, 962, 964, 966, 968, 970, 972, 974, 976, 978, 980, 982, 984, 986, 988, 990, 992, 994, 996, 998, 1000]\n"
          ]
        }
      ]
    },
    {
      "cell_type": "markdown",
      "metadata": {
        "id": "i4B06benpktC"
      },
      "source": [
        "6) Crie uma lista com todos os números ímpares de 0 até 199 (incluído)"
      ]
    },
    {
      "cell_type": "code",
      "source": [
        "lista_impar = [num for num in range(0,200) if num%2 != 0]\n",
        "print(lista_impar)"
      ],
      "metadata": {
        "colab": {
          "base_uri": "https://localhost:8080/"
        },
        "id": "d0pxL2EDkfnK",
        "outputId": "76eb02f2-ecc3-4e0f-9f5a-2e1fa38fd2d2"
      },
      "execution_count": 85,
      "outputs": [
        {
          "output_type": "stream",
          "name": "stdout",
          "text": [
            "[1, 3, 5, 7, 9, 11, 13, 15, 17, 19, 21, 23, 25, 27, 29, 31, 33, 35, 37, 39, 41, 43, 45, 47, 49, 51, 53, 55, 57, 59, 61, 63, 65, 67, 69, 71, 73, 75, 77, 79, 81, 83, 85, 87, 89, 91, 93, 95, 97, 99, 101, 103, 105, 107, 109, 111, 113, 115, 117, 119, 121, 123, 125, 127, 129, 131, 133, 135, 137, 139, 141, 143, 145, 147, 149, 151, 153, 155, 157, 159, 161, 163, 165, 167, 169, 171, 173, 175, 177, 179, 181, 183, 185, 187, 189, 191, 193, 195, 197, 199]\n"
          ]
        }
      ]
    },
    {
      "cell_type": "markdown",
      "metadata": {
        "id": "XFAJxyGopktG"
      },
      "source": [
        "7) Imprima o valor da média de todos os elementos da lista_A:"
      ]
    },
    {
      "cell_type": "code",
      "source": [
        "print(f'media lista_A é {sum(lista_A)/len(lista_A)}')\n",
        "\n",
        "#media_lista = np.mean(lista_A)\n",
        "#print(f'media lista_A é {media_lista}')"
      ],
      "metadata": {
        "colab": {
          "base_uri": "https://localhost:8080/"
        },
        "id": "j1tjwXQ3koTo",
        "outputId": "3b739481-382a-49af-dd42-09a0d02b5276"
      },
      "execution_count": 86,
      "outputs": [
        {
          "output_type": "stream",
          "name": "stdout",
          "text": [
            "media lista_A é 26.3\n"
          ]
        }
      ]
    },
    {
      "cell_type": "markdown",
      "metadata": {
        "id": "VpLxhb4JpktK"
      },
      "source": [
        "8) Crie 3 tuplas para armazenar as notas dos alunos em uma disciplina. Cada tupla deverá conter o nome do aluno (escolhido por você) seguido de suas duas notas."
      ]
    },
    {
      "cell_type": "code",
      "source": [
        "Aluno_1 = (\"Roberto\", 9.5, 3.0)\n",
        "Aluno_2 = (\"Francisco\", 5.3, 7.0)\n",
        "Aluno_3= (\"Bernardo\", 10.0, 9.0)"
      ],
      "metadata": {
        "id": "b_B7sJ3Enxjt"
      },
      "execution_count": 87,
      "outputs": []
    },
    {
      "cell_type": "markdown",
      "metadata": {
        "id": "OkuOWXPGpktP"
      },
      "source": [
        "9) Imprima a soma das notas de cada aluno do exercício 8, use as variáveis criadas por você.\n",
        "A resposta deve ter o seguinte formato:\n",
        "\n",
        "O somatório das notas do {Aluno_1} é {nota do Aluno_1}\n",
        "\n",
        "O somatório das notas do {Aluno_2} é {nota do Aluno_2}\n",
        "\n",
        "O somatório das notas do {Aluno_3} é {nota do Aluno_3}"
      ]
    },
    {
      "cell_type": "code",
      "source": [
        "print(f'O somatório das notas do {Aluno_1[0]} é {sum(Aluno_1[1:])}')\n",
        "print(f'O somatório das notas do {Aluno_2[0]} é {sum(Aluno_2[1:])}')\n",
        "print(f'O somatório das notas do {Aluno_3[0]} é {sum(Aluno_3[1:])}')"
      ],
      "metadata": {
        "colab": {
          "base_uri": "https://localhost:8080/"
        },
        "id": "h5B_uYZkoI85",
        "outputId": "75eb839b-8165-4541-8de5-438ef7b61085"
      },
      "execution_count": 88,
      "outputs": [
        {
          "output_type": "stream",
          "name": "stdout",
          "text": [
            "O somatório das notas do Roberto é 12.5\n",
            "O somatório das notas do Francisco é 12.3\n",
            "O somatório das notas do Bernardo é 19.0\n"
          ]
        }
      ]
    },
    {
      "cell_type": "markdown",
      "metadata": {
        "id": "dL5CJjvZpktT"
      },
      "source": [
        "10) Imprima o nome e a maior nota de cada aluno do exercício 8, use as variáveis criadas por você.\n",
        "\n",
        "A maior nota do {Aluno_1} é {maior_nota_do_Aluno_1} e a sua menor nota é {menor_nota_do_Aluno_1}\n",
        "\n",
        "A maior nota do {Aluno_2} é {maior_nota_do_Aluno_2} e a sua menor nota é {menor_nota_do_Aluno_2}\n",
        "\n",
        "A maior nota do {Aluno_3} é {maior_nota_do_Aluno_3} e a sua menor nota é {menor_nota_do_Aluno_3}"
      ]
    },
    {
      "cell_type": "code",
      "source": [
        "print(f'A maior nota do {Aluno_1[0]} é {max(Aluno_1[1:])} e a sua menor nota é {min(Aluno_1[1:])}')\n",
        "print(f'A maior nota do {Aluno_2[0]} é {max(Aluno_2[1:])} e a sua menor nota é {min(Aluno_2[1:])}')\n",
        "print(f'A maior nota do {Aluno_3[0]} é {max(Aluno_3[1:])} e a sua menor nota é {min(Aluno_3[1:])}')"
      ],
      "metadata": {
        "colab": {
          "base_uri": "https://localhost:8080/"
        },
        "id": "U4qz_zUwouiB",
        "outputId": "fdf6566b-7f4f-4229-c27d-b5a8408ed7ed"
      },
      "execution_count": 89,
      "outputs": [
        {
          "output_type": "stream",
          "name": "stdout",
          "text": [
            "A maior nota do Roberto é 9.5 e a sua menor nota é 3.0\n",
            "A maior nota do Francisco é 7.0 e a sua menor nota é 5.3\n",
            "A maior nota do Bernardo é 10.0 e a sua menor nota é 9.0\n"
          ]
        }
      ]
    },
    {
      "cell_type": "markdown",
      "metadata": {
        "id": "hX2F78TbFd_T"
      },
      "source": [
        "11) Construa um dicionário para armazenar os CNPJs de 5 empresas e o lucro ou prejuízo acumulado no ano de 2021. A chave deve ser o nome da empresa e o valor deve ser o cnpj.\n",
        "\n",
        "\n",
        "\n",
        "\n",
        "\n",
        "\n"
      ]
    },
    {
      "cell_type": "markdown",
      "source": [
        "* Petrobras\n",
        "CNPJ 33.000.167/0661-29\n",
        "faturamento 2021: R$ 452,7bilhões\n",
        "\n",
        "* JBS\n",
        "CNPJ 02.916.265/0001-60\n",
        "faturamento 2021: R$ 350,7bilhões\n",
        "\n",
        "* Vale\n",
        "CNPJ 33.592.510/0001-54\n",
        "faturamento 2021: R$ 293,5bilhões\n",
        "\n",
        "* Raízen\n",
        "CNPJ 08.070.508/0001-78\n",
        "faturamento 2021: R$ 137,8bilhões\n",
        "\n",
        "* Vibra\n",
        "CNPJ 34.274.233/0001-02\n",
        "faturamento 2021: R$ 130,1bilhões"
      ],
      "metadata": {
        "id": "q-0Ik7lTVaPV"
      }
    },
    {
      "cell_type": "code",
      "source": [
        "# Dic Empresas CNPJ\n",
        "empresas = {\n",
        "    'Petrobras': '33.000.167/0661-29',\n",
        "    'JBS': '02.916.265/0001-60',\n",
        "    'Vale':  '33.592.510/0001-54',\n",
        "    'Raízen': '08.070.508/0001-78',\n",
        "    'Vibra': '34.274.233/0001-02'\n",
        "}\n",
        "print(empresas)\n",
        "\n",
        "# Dic Empresas Faturamento\n",
        "faturamentos_2021 = {\n",
        "    'Petrobras':452.7,\n",
        "    'JBS':350.7,\n",
        "    'Vale':293.5,\n",
        "    'Raízen':137.8,\n",
        "    'Vibra': 130.1\n",
        "}\n",
        "print(faturamentos_2021)"
      ],
      "metadata": {
        "colab": {
          "base_uri": "https://localhost:8080/"
        },
        "id": "rgnVkRLwripq",
        "outputId": "daca845c-0fd8-43d0-de61-ceae77271dc9"
      },
      "execution_count": 90,
      "outputs": [
        {
          "output_type": "stream",
          "name": "stdout",
          "text": [
            "{'Petrobras': '33.000.167/0661-29', 'JBS': '02.916.265/0001-60', 'Vale': '33.592.510/0001-54', 'Raízen': '08.070.508/0001-78', 'Vibra': '34.274.233/0001-02'}\n",
            "{'Petrobras': 452.7, 'JBS': 350.7, 'Vale': 293.5, 'Raízen': 137.8, 'Vibra': 130.1}\n"
          ]
        }
      ]
    },
    {
      "cell_type": "code",
      "source": [
        "# Lista Empresas\n",
        "empresas = [\n",
        "    ['Petrobras', '33.000.167/0661-29', 452.7],\n",
        "    ['JBS', '02.916.265/0001-60', 350.7],\n",
        "    ['Vale', '33.592.510/0001-54', 293.5],\n",
        "    ['Raízen', '08.070.508/0001-78', 137.8],\n",
        "    ['Vibra', '34.274.233/0001-02', 130.1]\n",
        "]\n",
        "print(empresas)"
      ],
      "metadata": {
        "colab": {
          "base_uri": "https://localhost:8080/"
        },
        "id": "eOEbht8Cs1h6",
        "outputId": "f351505a-b912-48a9-e532-6de9981471db"
      },
      "execution_count": 108,
      "outputs": [
        {
          "output_type": "stream",
          "name": "stdout",
          "text": [
            "[['Petrobras', '33.000.167/0661-29', 452.7], ['JBS', '02.916.265/0001-60', 350.7], ['Vale', '33.592.510/0001-54', 293.5], ['Raízen', '08.070.508/0001-78', 137.8], ['Vibra', '34.274.233/0001-02', 130.1]]\n"
          ]
        }
      ]
    },
    {
      "cell_type": "markdown",
      "metadata": {
        "id": "8PRj7bRfcaXu"
      },
      "source": [
        "12) Usando o dicionário criado no exercício 11, imprima o valor do menor e do maior faturamento e a média do faturamento das 5 empresas. A reposta deve ter o seguinte formato:\n",
        "\n",
        "* A empresa com o maior faturamento {valor do faturamento} é {nome da empresa}.\n",
        "* A empresa com o menor faturamento {valor do faturamento} é {nome da empresa}.\n",
        "* A média do faturamento das cinco empresas em 2021 foi de {média do faturamento}."
      ]
    },
    {
      "cell_type": "code",
      "source": [
        "#A empresa com o maior faturamento {valor do faturamento} é {nome da empresa}\n",
        "max_faturamento_2021 = max(faturamentos_2021.values())\n",
        "nome_max_faturamento = [nome for nome, faturamento in faturamentos_2021.items() if faturamento == max_faturamento_2021][0]\n",
        "\n",
        "#A empresa com o menor faturamento {valor do faturamento} é {nome da empresa}\n",
        "min_faturamento_2021 = min(faturamentos_2021.values())\n",
        "nome_min_faturamento = [nome for nome, faturamento in faturamentos_2021.items() if faturamento == min_faturamento_2021][0]\n",
        "\n",
        "#A média do faturamento das cinco empresas em 2021 foi de {média do faturamento}\n",
        "media_faturamento_2021 = sum(faturamentos_2021.values()) / len(faturamentos_2021)\n",
        "\n",
        "print(f'A empresa com o maior faturamento {max_faturamento_2021} é {nome_max_faturamento}')\n",
        "print(f'A empresa com o menor faturamento {min_faturamento_2021} é {nome_min_faturamento}')\n",
        "print(f'A média do faturamento das cinco empresas em 2021 foi de {media_faturamento_2021}')"
      ],
      "metadata": {
        "colab": {
          "base_uri": "https://localhost:8080/"
        },
        "id": "BPbs87EtugAx",
        "outputId": "c7d09300-1e58-4af7-b69e-ec26c72c10b3"
      },
      "execution_count": 92,
      "outputs": [
        {
          "output_type": "stream",
          "name": "stdout",
          "text": [
            "A empresa com o maior faturamento 452.7 é Petrobras\n",
            "A empresa com o menor faturamento 130.1 é Vibra\n",
            "A média do faturamento das cinco empresas em 2021 foi de 272.96\n"
          ]
        }
      ]
    },
    {
      "cell_type": "markdown",
      "metadata": {
        "id": "VEqNDxEIca9N"
      },
      "source": [
        "13) Sabendo que A = {0, 1, 2, 3, 4, 5, 6}, B = {6, 7, 8, 9} e C = {2, 4, 6, 8, 10}, quais são os elementos do conjunto (A∩B)UC?"
      ]
    },
    {
      "cell_type": "code",
      "source": [
        "A = {0, 1, 2, 3, 4, 5, 6}\n",
        "B = {6, 7, 8, 9}\n",
        "C = {2, 4, 6, 8, 10}\n",
        "\n",
        "conjunto = (A & B) | C\n",
        "print(f'{conjunto}')"
      ],
      "metadata": {
        "id": "KMR0qW0UZa3p",
        "colab": {
          "base_uri": "https://localhost:8080/"
        },
        "outputId": "f3b8d6ea-9b33-48aa-8c0f-a4bac2e68b6a"
      },
      "execution_count": 93,
      "outputs": [
        {
          "output_type": "stream",
          "name": "stdout",
          "text": [
            "{2, 4, 6, 8, 10}\n"
          ]
        }
      ]
    },
    {
      "cell_type": "markdown",
      "metadata": {
        "id": "Ahvv3HIOgaSS"
      },
      "source": [
        "14) Os alunos de uma escola devem se inscrever em DUAS MODALIDADES esportivas no início do ano, porém, as inscrições são abertas e alguns alunos podem ter se inscrito em apenas uma modalidade ou em três. As modalidades esportivas são: NATAÇÃO, CICLISMO E CORRIDA. Você é o responsável pelas inscrições e deverá analisar as listagens com as inscrições e realizar as seguintes ações corretivas:\n",
        "\n",
        "14.1. Para cada uma das três modalidades, verifique se o mesmo aluno se inscreveu mais de uma vez e exclua exclua os nomes duplicados.\n",
        "\n",
        "14.2. Em seguida, contabilize a quantidade de alunos inscritos em\n",
        "cada modalidade e imprima os três valores\n",
        "\n",
        "14.3 Imprima uma listagem com o nome de todos os alunos nas 3 modalidades e a quantidade total de alunos, somadas as 3 modalidades.\n",
        "\n",
        "14.4 Imprima uma listagem com o nome de cada aluno e as modalidades em que está inscrito\n",
        "\n",
        "14.5 Imprima uma listagem com os alunos que se inscreveram em apenas 1 ou em 3 modalidades"
      ]
    },
    {
      "cell_type": "code",
      "source": [
        "natacao = [\"Nicolas da Silva\",\"Marcos Santos\", \"Luciana Barbosa\", \"Ana Schimidt\", \"Marcos Santos\", \"Joana Ramos\", \"André Consentino\", \"Marcela Rangel\", \"Luciana Barbosa\", \"Carlos Antunes\"]\n",
        "ciclismo = [\"Nicolas da Silva\", \"Marcos Santos\", \"Luciana Barbosa\", \"Ana Schimidt\", \"Marcos Santos\",\"Marcela Rangel\", \"Michele Souza\", \"Marcelo Bach\", \"Luis Pereira\"]\n",
        "corrida = [\"Marcos Santos\", \"Luciana Barbosa\", \"Ana Schimidt\", \"Marcos Santos\", \"Luis Pereira\", \"Joana Ramos\", \"André Consentino\",\"Marcela Rangel\", \"Luis Gomes\", \"Luciana Barbosa\"]"
      ],
      "metadata": {
        "id": "6bkyhKMoOUL6"
      },
      "execution_count": 94,
      "outputs": []
    },
    {
      "cell_type": "code",
      "source": [
        "#14.1. Para cada uma das três modalidades, verifique se o mesmo aluno se inscreveu mais de uma vez e exclua exclua os nomes duplicados\n",
        "\n",
        "#verificando quem são os duplicados\n",
        "def verificar_duplicados(lista):\n",
        "    duplicados = {}\n",
        "    for aluno in lista:\n",
        "        if lista.count(aluno) > 1:\n",
        "            duplicados[aluno] = lista.count(aluno)\n",
        "    return duplicados\n",
        "\n",
        "duplicados_natacao = verificar_duplicados(natacao)\n",
        "duplicados_ciclismo = verificar_duplicados(ciclismo)\n",
        "duplicados_corrida = verificar_duplicados(corrida)\n",
        "\n",
        "print(\"Duplicados na Natação:\", duplicados_natacao)\n",
        "print(\"Duplicados no Ciclismo:\", duplicados_ciclismo)\n",
        "print(\"Duplicados na Corrida:\", duplicados_corrida)\n",
        "\n",
        "#removendo os duplicados\n",
        "set_natacao = list(set(natacao))\n",
        "set_ciclismo = list(set(ciclismo))\n",
        "set_corrida = list(set(corrida))\n",
        "\n",
        "print(set_natacao)\n",
        "print(set_ciclismo)\n",
        "print(set_corrida)\n",
        "\n",
        "#verificando se os duplicados foram removidos\n",
        "def verificar_duplicados(lista):\n",
        "    duplicados = {}\n",
        "    for aluno in lista:\n",
        "        if lista.count(aluno) > 1:\n",
        "            duplicados[aluno] = lista.count(aluno)\n",
        "    return duplicados\n",
        "\n",
        "duplicados_natacao = verificar_duplicados(natacao)\n",
        "duplicados_ciclismo = verificar_duplicados(ciclismo)\n",
        "duplicados_corrida = verificar_duplicados(corrida)\n",
        "\n",
        "print(\"Duplicados na Natação:\", duplicados_natacao)\n",
        "print(\"Duplicados no Ciclismo:\", duplicados_ciclismo)\n",
        "print(\"Duplicados na Corrida:\", duplicados_corrida)"
      ],
      "metadata": {
        "colab": {
          "base_uri": "https://localhost:8080/"
        },
        "id": "b5r3S-fB5I2q",
        "outputId": "9a96f0cd-69f3-4618-d5f7-95e0e79d2edd"
      },
      "execution_count": 95,
      "outputs": [
        {
          "output_type": "stream",
          "name": "stdout",
          "text": [
            "Duplicados na Natação: {'Marcos Santos': 2, 'Luciana Barbosa': 2}\n",
            "Duplicados no Ciclismo: {'Marcos Santos': 2}\n",
            "Duplicados na Corrida: {'Marcos Santos': 2, 'Luciana Barbosa': 2}\n",
            "['Marcela Rangel', 'Carlos Antunes', 'Joana Ramos', 'Ana Schimidt', 'Marcos Santos', 'Luciana Barbosa', 'Nicolas da Silva', 'André Consentino']\n",
            "['Marcela Rangel', 'Luis Pereira', 'Ana Schimidt', 'Marcos Santos', 'Michele Souza', 'Marcelo Bach', 'Luciana Barbosa', 'Nicolas da Silva']\n",
            "['Marcela Rangel', 'Luis Gomes', 'Luis Pereira', 'Joana Ramos', 'Ana Schimidt', 'Marcos Santos', 'Luciana Barbosa', 'André Consentino']\n",
            "Duplicados na Natação: {'Marcos Santos': 2, 'Luciana Barbosa': 2}\n",
            "Duplicados no Ciclismo: {'Marcos Santos': 2}\n",
            "Duplicados na Corrida: {'Marcos Santos': 2, 'Luciana Barbosa': 2}\n"
          ]
        }
      ]
    },
    {
      "cell_type": "code",
      "source": [
        "#14.2. Em seguida, contabilize a quantidade de alunos inscritos em cada modalidade e imprima os três valores\n",
        "\n",
        "#contando os alunos\n",
        "qtd_natacao = len(set_natacao)\n",
        "qtd_ciclismo = len(set_ciclismo)\n",
        "qtd_corrida = len(set_corrida)\n",
        "\n",
        "print(qtd_natacao)\n",
        "print(qtd_ciclismo)\n",
        "print(qtd_corrida)"
      ],
      "metadata": {
        "colab": {
          "base_uri": "https://localhost:8080/"
        },
        "id": "KQNJIO5z4mWy",
        "outputId": "e207b16e-21a5-408e-a773-86b7142b427f"
      },
      "execution_count": 96,
      "outputs": [
        {
          "output_type": "stream",
          "name": "stdout",
          "text": [
            "8\n",
            "8\n",
            "8\n"
          ]
        }
      ]
    },
    {
      "cell_type": "code",
      "source": [
        "#14.3 Imprima uma listagem com o nome de todos os alunos nas 3 modalidades e a quantidade total de alunos, somadas as 3 modalidades\n",
        "\n",
        "#alunos nas 3 modalidades\n",
        "#alunos_3 = natacao & ciclismo & corrida\n",
        "#print(alunos_3)\n",
        "\n",
        "alunos_3 = natacao + ciclismo + corrida\n",
        "#print(alunos_3)\n",
        "set_alunos_3 = list(set(alunos_3))\n",
        "#print(set_alunos_3)\n",
        "qtd_alunos_3 = len(set_alunos_3)\n",
        "#print(qtd_alunos_3)\n",
        "\n",
        "print(f'A quantidade total de alunos nas 3 modalidades são {qtd_alunos_3} e os alunos são {set_alunos_3}')"
      ],
      "metadata": {
        "colab": {
          "base_uri": "https://localhost:8080/"
        },
        "id": "yQYHiKb44q7y",
        "outputId": "40fb9e5a-7430-427b-b967-94e3a7d49cc0"
      },
      "execution_count": 97,
      "outputs": [
        {
          "output_type": "stream",
          "name": "stdout",
          "text": [
            "A quantidade total de alunos nas 3 modalidades são 12 e os alunos são ['Marcela Rangel', 'Luis Gomes', 'Carlos Antunes', 'Luis Pereira', 'Joana Ramos', 'Ana Schimidt', 'Marcos Santos', 'Michele Souza', 'Marcelo Bach', 'Luciana Barbosa', 'Nicolas da Silva', 'André Consentino']\n"
          ]
        }
      ]
    },
    {
      "cell_type": "code",
      "source": [
        "#14.4 Imprima uma listagem com o nome de cada aluno e as modalidades em que está inscrito\n",
        "\n",
        "inscricoes = {\n",
        "    'NATACAO': natacao,\n",
        "    'CICLISMO': ciclismo,\n",
        "    'CORRIDA': corrida\n",
        "}\n",
        "\n",
        "print('Listagem de alunos e suas modalidades')\n",
        "for modalidade, alunos in inscricoes.items():\n",
        "  print('\\n')\n",
        "  print(modalidade)\n",
        "  for aluno in alunos:\n",
        "    print('-', aluno)"
      ],
      "metadata": {
        "colab": {
          "base_uri": "https://localhost:8080/"
        },
        "id": "86ACBtu24R80",
        "outputId": "4bcd6242-b277-4eef-b50c-f71c40a3f693"
      },
      "execution_count": 119,
      "outputs": [
        {
          "output_type": "stream",
          "name": "stdout",
          "text": [
            "Listagem de alunos e suas modalidades\n",
            "\n",
            "\n",
            "NATACAO\n",
            "- Nicolas da Silva\n",
            "- Marcos Santos\n",
            "- Luciana Barbosa\n",
            "- Ana Schimidt\n",
            "- Marcos Santos\n",
            "- Joana Ramos\n",
            "- André Consentino\n",
            "- Marcela Rangel\n",
            "- Luciana Barbosa\n",
            "- Carlos Antunes\n",
            "\n",
            "\n",
            "CICLISMO\n",
            "- Nicolas da Silva\n",
            "- Marcos Santos\n",
            "- Luciana Barbosa\n",
            "- Ana Schimidt\n",
            "- Marcos Santos\n",
            "- Marcela Rangel\n",
            "- Michele Souza\n",
            "- Marcelo Bach\n",
            "- Luis Pereira\n",
            "\n",
            "\n",
            "CORRIDA\n",
            "- Marcos Santos\n",
            "- Luciana Barbosa\n",
            "- Ana Schimidt\n",
            "- Marcos Santos\n",
            "- Luis Pereira\n",
            "- Joana Ramos\n",
            "- André Consentino\n",
            "- Marcela Rangel\n",
            "- Luis Gomes\n",
            "- Luciana Barbosa\n"
          ]
        }
      ]
    },
    {
      "cell_type": "code",
      "source": [
        "#14.5 Imprima uma listagem com os alunos que se inscreveram em apenas 1 ou em 3 modalidades\n",
        "\n",
        "alunos_total = natacao + ciclismo + corrida\n",
        "aluno_modalidades = {}\n",
        "\n",
        "for aluno in alunos_total:\n",
        "  qtd_modalidades = 0\n",
        "  if aluno in natacao:\n",
        "    qtd_modalidades +=1\n",
        "  if aluno in ciclismo:\n",
        "    qtd_modalidades +=1\n",
        "  if aluno in corrida:\n",
        "    qtd_modalidades +=1\n",
        "  aluno_modalidades[aluno] = qtd_modalidades\n",
        "\n",
        "print('Alunos que se inscreveram em apenas 1 ou 3 modalidades\\n')\n",
        "for aluno, qtd_modalidades in aluno_modalidades.items():\n",
        "  if qtd_modalidades == 1 or qtd_modalidades == 3:\n",
        "    print(aluno)"
      ],
      "metadata": {
        "colab": {
          "base_uri": "https://localhost:8080/"
        },
        "id": "znQwBiZ94Uej",
        "outputId": "3af0f10a-1837-4320-f7e2-fa250f34aa54"
      },
      "execution_count": 118,
      "outputs": [
        {
          "output_type": "stream",
          "name": "stdout",
          "text": [
            "Alunos que se inscreveram em apenas 1 ou 3 modalidades\n",
            "\n",
            "Marcos Santos\n",
            "Luciana Barbosa\n",
            "Ana Schimidt\n",
            "Marcela Rangel\n",
            "Carlos Antunes\n",
            "Michele Souza\n",
            "Marcelo Bach\n",
            "Luis Gomes\n"
          ]
        }
      ]
    },
    {
      "cell_type": "code",
      "source": [
        "#14.5 Imprima uma listagem com os alunos que se inscreveram em apenas 1 ou em 3 modalidades\n",
        "\n",
        "#criando dic\n",
        "aluno_modalidade = {}\n",
        "\n",
        "for aluno in natacao:\n",
        "  aluno_modalidade[aluno] = ['natacao']\n",
        "\n",
        "for aluno in ciclismo:\n",
        "  if aluno in aluno_modalidade:\n",
        "    aluno_modalidade[aluno].append('ciclismo')\n",
        "  else:\n",
        "    aluno_modalidade[aluno] = ['ciclismo']\n",
        "\n",
        "for aluno in corrida:\n",
        "  if aluno in aluno_modalidade:\n",
        "    aluno_modalidade[aluno].append('corrida')\n",
        "  else:\n",
        "    aluno_modalidade[aluno] = ['corrida']\n",
        "\n",
        "print(\"Alunos que se inscreveram em apenas 1 ou 3 modalidades\\n\")\n",
        "for aluno, modalidade in aluno_modalidade.items():\n",
        "    if len(modalidade) == 1 or len(modalidade) == 3:\n",
        "        print(f\"{aluno}: {', '.join(modalidade)}\")"
      ],
      "metadata": {
        "colab": {
          "base_uri": "https://localhost:8080/"
        },
        "id": "3-Itph8NCtZc",
        "outputId": "6227b323-4a86-464d-aedb-0a98d7fc3d04"
      },
      "execution_count": 117,
      "outputs": [
        {
          "output_type": "stream",
          "name": "stdout",
          "text": [
            "Alunos que se inscreveram em apenas 1 ou 3 modalidades\n",
            "\n",
            "Ana Schimidt: natacao, ciclismo, corrida\n",
            "Marcela Rangel: natacao, ciclismo, corrida\n",
            "Carlos Antunes: natacao\n",
            "Michele Souza: ciclismo\n",
            "Marcelo Bach: ciclismo\n",
            "Luis Gomes: corrida\n"
          ]
        }
      ]
    },
    {
      "cell_type": "markdown",
      "metadata": {
        "id": "bSb8PexdoaCv"
      },
      "source": [
        "15) Abaixo é apresentado um dicionário contendo os seguintes dados de alguns vencedores do Prêmio Nobel da Paz:\n",
        "{Ano da premiação: (Nome, País de Origem, Ano de Nascimento, Motivação do prêmio, gênero (Feminino, Masculino ou Organização))}\n",
        "\n",
        "Faça o que se pede nos subtitens 15.1 e 15.2"
      ]
    },
    {
      "cell_type": "code",
      "metadata": {
        "id": "Lq5POuTjuV93"
      },
      "source": [
        "nobel = {2011: [['Ellen Jonhson Sirleaf', 'Liberia', 1938, 'woman rights', \"F\"],['Leymah Gbowee', 'Liberia', 1972, 'woman rights', 'F'], ['Tawakkol', 'Liberia', 1979, 'woman rights', 'F' ]],\n",
        "         2012: ['Eurpean Union', 'Europe', 1952, 'human rights','O'],\n",
        "         2013: ['Organization for the Prohibition of Chemical Weapons', 'The Netherlands', 1997, 'eliminate chemical weapons', 'O'],\n",
        "         2014: [['Kailash Satyarthi', 'India', 1954, 'children education', 'M'], ['Malala Yousafzai', 'Pakistan', 1997, 'children education', 'O']],\n",
        "         2015: ['National Dialogue Quartet', 'Tunisia', 2011, 'democracy', 'O'],\n",
        "         2016: ['Juan Manuel Santos', 'Colombia', 1951, 'end of civil war', 'O'],\n",
        "         2017: ['International Campaign to Abolish Nuclear Weapons', 'Australia', 2007, 'nuclear weapons prohibition', 'O'],\n",
        "         2018: ['Denis Mukwege', 'Congo', 1955, 'end sexual violation at war', 'M'],\n",
        "         2019: ['Abiy Ahmed Ali', 'Ethiopia', 1976, 'international conflicts', 'M'],\n",
        "         2020: ['World Food Programme', 'Italy', 1961, 'combat hunger', 'O']}"
      ],
      "execution_count": 101,
      "outputs": []
    },
    {
      "cell_type": "markdown",
      "metadata": {
        "id": "7DrKKEiSkIDE"
      },
      "source": [
        "15.1) Quais foram os vencedores do Prêmio Nobel da Paz em 2011?"
      ]
    },
    {
      "cell_type": "code",
      "source": [
        "print(\"Vencedores do Prêmio Nobel da Paz em 2011\\n\")\n",
        "\n",
        "for vencedor in nobel[2011]:\n",
        "  print('2011', vencedor[0])"
      ],
      "metadata": {
        "colab": {
          "base_uri": "https://localhost:8080/"
        },
        "id": "wLHx-igWFt-9",
        "outputId": "b1046726-72e7-4f50-e1cf-af5a2a6cf9d7"
      },
      "execution_count": 148,
      "outputs": [
        {
          "output_type": "stream",
          "name": "stdout",
          "text": [
            "Vencedores do Prêmio Nobel da Paz em 2011\n",
            "\n",
            "2011 Ellen Jonhson Sirleaf\n",
            "2011 Leymah Gbowee\n",
            "2011 Tawakkol\n"
          ]
        }
      ]
    },
    {
      "cell_type": "markdown",
      "metadata": {
        "id": "n9q1gMCblCD7"
      },
      "source": [
        "15.2) Imprima a relação dos países de origem dos laureados com o Prêmio Nobel da Paz na última década."
      ]
    },
    {
      "cell_type": "code",
      "source": [
        "print(\"Países de origem dos laureados na última década\\n\")\n",
        "\n",
        "#ano atual\n",
        "import datetime\n",
        "ano_atual = datetime.datetime.now().year\n",
        "#print(ano_atual)\n",
        "\n",
        "#ultima decada\n",
        "ult_decada = range(ano_atual - 10, ano_atual)\n",
        "\n",
        "#paises\n",
        "pais = set()\n",
        "paises_ano = {}\n",
        "\n",
        "for ano in ult_decada:\n",
        "  if ano in nobel:\n",
        "    vencedores = nobel[ano]\n",
        "    for vencedor in vencedores:\n",
        "      if isinstance(vencedor, list):\n",
        "        pais = vencedor[1]\n",
        "      else:\n",
        "        pais = vencedores[1]\n",
        "      paises_ano[pais] = ano\n",
        "\n",
        "for pais, ano in paises_ano.items():\n",
        "  print(ano, pais)"
      ],
      "metadata": {
        "colab": {
          "base_uri": "https://localhost:8080/"
        },
        "id": "KkMO17kWGeuV",
        "outputId": "35cbac46-4333-4507-d04e-76a879d3cc17"
      },
      "execution_count": 149,
      "outputs": [
        {
          "output_type": "stream",
          "name": "stdout",
          "text": [
            "Países de origem dos laureados na última década\n",
            "\n",
            "2013 The Netherlands\n",
            "2014 India\n",
            "2014 Pakistan\n",
            "2015 Tunisia\n",
            "2016 Colombia\n",
            "2017 Australia\n",
            "2018 Congo\n",
            "2019 Ethiopia\n",
            "2020 Italy\n"
          ]
        }
      ]
    },
    {
      "cell_type": "markdown",
      "source": [],
      "metadata": {
        "id": "EtksidgSIk8N"
      }
    },
    {
      "cell_type": "markdown",
      "metadata": {
        "id": "FTUwk3-Uzikv"
      },
      "source": [
        "16) Em uma competição de salto em distância cada atleta tem direito a três saltos. O resultado do atleta será determinado pela média dos três valores saltos.\n",
        "\n",
        "Você deve fazer um programa que receba:\n",
        "\n",
        "* o nome e as três distâncias alcançadas pelo atleta em seus saltos (via input())\n",
        "* informe o nome, os saltos e a média dos saltos.\n",
        "* O programa deve ser encerrado quando não for informado o nome do atleta.\n",
        "* A saída do programa deve ser conforme o exemplo abaixo:\n",
        "\n",
        "Atleta: Rodrigo\n",
        "\n",
        "Primeiro Salto: 3 m\n",
        "\n",
        "Segundo Salto: 2 m\n",
        "\n",
        "Terceiro Salto: 4 m\n",
        "\n",
        "Resultado final:\n",
        "\n",
        "Atleta: Rodrigo\n",
        "\n",
        "Saltos: 3 - 2 - 4\n",
        "\n",
        "Média dos saltos: 3 m\n"
      ]
    },
    {
      "cell_type": "markdown",
      "metadata": {
        "id": "QGkAi0Sszikw"
      },
      "source": [
        "17) Qual é a diferença entre o **while** e **for**?"
      ]
    },
    {
      "cell_type": "markdown",
      "metadata": {
        "id": "hJr6RsJ0ItTj"
      },
      "source": [
        "RESPOSTA:"
      ]
    },
    {
      "cell_type": "markdown",
      "metadata": {
        "id": "Si6cIK4_zikw"
      },
      "source": [
        "18) Faça um Programa que peça a idade e a altura de 3 pessoas, armazene cada informação na sua respectiva lista e imprima a idade e a altura de cada pessoa."
      ]
    },
    {
      "cell_type": "markdown",
      "metadata": {
        "id": "z-lRJpFtzikx"
      },
      "source": [
        "19) Dados os dois vetores abaixo (listas), faça um programa que leia os dois vetores e gere um terceiro vetor de 20 elementos, cujos valores deverão ser compostos pelos elementos intercalados dos dois outros vetores."
      ]
    },
    {
      "cell_type": "code",
      "source": [
        "a = [0,2,4,6,8,10,12,14,16,18]\n",
        "b = [1,3,5,7,9,11,13,15,17,19]"
      ],
      "metadata": {
        "id": "l9SYH_TCRDXH"
      },
      "execution_count": 102,
      "outputs": []
    },
    {
      "cell_type": "markdown",
      "metadata": {
        "id": "4hxJCn2npn_9"
      },
      "source": [
        "20) Faça UMA FUNÇÃO que recebe um valor n e que imprima:\n",
        "  \n",
        "    1\n",
        "  \n",
        "    2   2\n",
        "  \n",
        "    3   3   3\n",
        "  \n",
        "    .....\n",
        "  \n",
        "    n   n   n   n   n   n  ... n"
      ]
    },
    {
      "cell_type": "markdown",
      "metadata": {
        "id": "DO9yCJVWp5g8"
      },
      "source": [
        "21) Faça uma FUNÇÃO que recebe um valor n e que imprima:\n",
        "  \n",
        "  1\n",
        "  \n",
        "  1   2\n",
        "  \n",
        "  1   2   3\n",
        "  \n",
        "  .....\n",
        "  \n",
        "  1   2   3   ...  n"
      ]
    },
    {
      "cell_type": "markdown",
      "metadata": {
        "id": "hmc5JPO1qYUx"
      },
      "source": [
        "22) Faça uma FUNÇÃO que retorne o reverso de um número inteiro passado por parâmetro. Por exemplo: 127 -> 721."
      ]
    },
    {
      "cell_type": "markdown",
      "metadata": {
        "id": "TOxj_Jft9qzu"
      },
      "source": [
        "23) Faça uma função que receba dois vetores com 5 elementos aleatórios e inteiros cada. Sua função deverá retornar um terceiro vetor de 20 elementos, cujos valores deverão ser compostos pelos elementos concatenados dos dois outros vetores."
      ]
    },
    {
      "cell_type": "markdown",
      "metadata": {
        "id": "P3rFzfva9qzz"
      },
      "source": [
        "24) Faça uma função que receba uma string e retorne a quantidade de consoantes que existem nela."
      ]
    },
    {
      "cell_type": "markdown",
      "metadata": {
        "id": "PyO_WDzx9qz3"
      },
      "source": [
        "25) Altere o exercício 24 para que o retorno seja um dicionário, onde a chaves (keys) são as consoantes e os valores (values) são a quantidade de vezes em que a consoante aparece na string"
      ]
    }
  ]
}