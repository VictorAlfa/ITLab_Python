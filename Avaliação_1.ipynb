{
  "nbformat": 4,
  "nbformat_minor": 0,
  "metadata": {
    "kernelspec": {
      "display_name": "Python 3",
      "language": "python",
      "name": "python3"
    },
    "language_info": {
      "codemirror_mode": {
        "name": "ipython",
        "version": 3
      },
      "file_extension": ".py",
      "mimetype": "text/x-python",
      "name": "python",
      "nbconvert_exporter": "python",
      "pygments_lexer": "ipython3",
      "version": "3.7.3"
    },
    "colab": {
      "provenance": [],
      "include_colab_link": true
    }
  },
  "cells": [
    {
      "cell_type": "markdown",
      "metadata": {
        "id": "view-in-github",
        "colab_type": "text"
      },
      "source": [
        "<a href=\"https://colab.research.google.com/github/VictorAlfa/ITLab_Python/blob/main/Avalia%C3%A7%C3%A3o_1.ipynb\" target=\"_parent\"><img src=\"https://colab.research.google.com/assets/colab-badge.svg\" alt=\"Open In Colab\"/></a>"
      ]
    },
    {
      "cell_type": "markdown",
      "source": [
        "#NOMES:"
      ],
      "metadata": {
        "id": "l5Qm-dQ9TLas"
      }
    },
    {
      "cell_type": "markdown",
      "metadata": {
        "id": "8kih40y9pksj"
      },
      "source": [
        "# Avaliação\n"
      ]
    },
    {
      "cell_type": "code",
      "source": [
        "!pip install numpy  #instala a biblioteca Numpy"
      ],
      "metadata": {
        "id": "fz7PSJXCUErt"
      },
      "execution_count": null,
      "outputs": []
    },
    {
      "cell_type": "markdown",
      "metadata": {
        "id": "nSqOopEApksl"
      },
      "source": [
        "#### Considere a seguinte lista:"
      ]
    },
    {
      "cell_type": "code",
      "metadata": {
        "id": "8ZA2_XTzpksm"
      },
      "source": [
        "lista_A = [2, 29, 8, 98, 10, 3, -4, 9, 10, 98]"
      ],
      "execution_count": null,
      "outputs": []
    },
    {
      "cell_type": "markdown",
      "metadata": {
        "id": "bGv0VS7tpksr"
      },
      "source": [
        "#### Usando as funções apresentadas, faça os exercícios de 1 à 4:\n",
        "\n",
        "1) Imprima a soma do maior e o menor elemento da lista:\n"
      ]
    },
    {
      "cell_type": "markdown",
      "metadata": {
        "id": "PuArl5-0pksw"
      },
      "source": [
        "2) Imprima o número de ocorrências do maior elemento da lista:"
      ]
    },
    {
      "cell_type": "markdown",
      "metadata": {
        "id": "tv1uvGmmpks1"
      },
      "source": [
        "3) Imprima o maior número ímpar da lista utilizando um código para calculá-lo:"
      ]
    },
    {
      "cell_type": "markdown",
      "metadata": {
        "id": "8PBchreRpks6"
      },
      "source": [
        "4) Imprima o maior elemento da lista elevado ao quadrado:"
      ]
    },
    {
      "cell_type": "markdown",
      "metadata": {
        "id": "P8viaLzmpks-"
      },
      "source": [
        "5) Crie uma lista com todos os números pares de 0 até 1000 (incluído)."
      ]
    },
    {
      "cell_type": "markdown",
      "metadata": {
        "id": "i4B06benpktC"
      },
      "source": [
        "6) Crie uma lista com todos os números ímpares de 0 até 199 (incluído)"
      ]
    },
    {
      "cell_type": "markdown",
      "metadata": {
        "id": "XFAJxyGopktG"
      },
      "source": [
        "7) Imprima o valor da média de todos os elementos da lista_A:"
      ]
    },
    {
      "cell_type": "markdown",
      "metadata": {
        "id": "VpLxhb4JpktK"
      },
      "source": [
        "8) Crie 3 tuplas para armazenar as notas dos alunos em uma disciplina. Cada tupla deverá conter o nome do aluno (escolhido por você) seguido de suas duas notas."
      ]
    },
    {
      "cell_type": "code",
      "source": [
        "Aluno1 = (\"Roberto\", 9.5, 3.0)\n",
        "Aluno2 = (\"Francisco\", 5.3, 7.0)\n",
        "Aluno3= (\"Bernardo\", 10.0, 9.0)"
      ],
      "metadata": {
        "id": "b_B7sJ3Enxjt"
      },
      "execution_count": null,
      "outputs": []
    },
    {
      "cell_type": "markdown",
      "metadata": {
        "id": "OkuOWXPGpktP"
      },
      "source": [
        "9) Imprima a soma das notas de cada aluno do exercício 8, use as variáveis criadas por você.\n",
        "A resposta deve ter o seguinte formato:\n",
        "\n",
        "O somatório das notas do {Aluno_1} é {nota do Aluno_1}\n",
        "\n",
        "O somatório das notas do {Aluno_2} é {nota do Aluno_2}\n",
        "\n",
        "O somatório das notas do {Aluno_3} é {nota do Aluno_3}"
      ]
    },
    {
      "cell_type": "markdown",
      "metadata": {
        "id": "dL5CJjvZpktT"
      },
      "source": [
        "10) Imprima o nome e a maior nota de cada aluno do exercício 8, use as variáveis criadas por você.\n",
        "\n",
        "A maior nota do {Aluno_1} é {maior_nota_do_Aluno_1} e a sua menor nota é {menor_nota_do_Aluno_1}\n",
        "\n",
        "A maior nota do {Aluno_2} é {maior_nota_do_Aluno_2} e a sua menor nota é {menor_nota_do_Aluno_2}\n",
        "\n",
        "A maior nota do {Aluno_3} é {maior_nota_do_Aluno_3} e a sua menor nota é {menor_nota_do_Aluno_3}"
      ]
    },
    {
      "cell_type": "markdown",
      "metadata": {
        "id": "hX2F78TbFd_T"
      },
      "source": [
        "11) Construa um dicionário para armazenar os CNPJs de 5 empresas e o lucro ou prejuízo acumulado no ano de 2022. A chave deve ser o nome da empresa e o valor deve ser o cnpj.\n",
        "\n",
        "\n",
        "\n",
        "\n",
        "\n",
        "\n"
      ]
    },
    {
      "cell_type": "markdown",
      "source": [
        "* Petrobras\n",
        "CNPJ 33.000.167/0661-29\n",
        "faturamento 2021: R$ 452,7bilhões\n",
        "\n",
        "* JBS\n",
        "CNPJ 02.916.265/0001-60\n",
        "faturamento 2021: R$ 350,7bilhões\n",
        "\n",
        "* Vale\n",
        "CNPJ 33.592.510/0001-54\n",
        "faturamento 2021: R$ 293,5bilhões\n",
        "\n",
        "* Raízen\n",
        "CNPJ 08.070.508/0001-78\n",
        "faturamento 2021: R$ 137,8bilhões\n",
        "\n",
        "* Vibra\n",
        "CNPJ 34.274.233/0001-02\n",
        "faturamento 2021: R$ 130,1bilhões"
      ],
      "metadata": {
        "id": "q-0Ik7lTVaPV"
      }
    },
    {
      "cell_type": "markdown",
      "metadata": {
        "id": "8PRj7bRfcaXu"
      },
      "source": [
        "12) Usando o dicionário criado no exercício 11, imprima o valor do menor e do maior faturamento e a média do faturamento das 5 empresas. A reposta deve ter o seguinte formato:\n",
        "\n",
        "* A empresa com o maior faturamento {valor do faturamento} é {nome da empresa}.\n",
        "* A empresa com o menor faturamento {valor do faturamento} é {nome da empresa}.\n",
        "* A média do faturamento das cinco empresas em 2021 foi de {média do faturamento}."
      ]
    },
    {
      "cell_type": "markdown",
      "metadata": {
        "id": "VEqNDxEIca9N"
      },
      "source": [
        "13) Sabendo que A = {0, 1, 2, 3, 4, 5, 6}, B = {6, 7, 8, 9} e C = {2, 4, 6, 8, 10}, quais são os elementos do conjunto (A∩B)UC?"
      ]
    },
    {
      "cell_type": "code",
      "source": [
        "A = {0, 1, 2, 3, 4, 5, 6}\n",
        "B = {6, 7, 8, 9}\n",
        "C = {2, 4, 6, 8, 10}"
      ],
      "metadata": {
        "id": "KMR0qW0UZa3p"
      },
      "execution_count": null,
      "outputs": []
    },
    {
      "cell_type": "markdown",
      "metadata": {
        "id": "Ahvv3HIOgaSS"
      },
      "source": [
        "14) Os alunos de uma escola devem se inscrever em DUAS MODALIDADES esportivas no início do ano, porém, as inscrições são abertas e alguns alunos podem ter se inscrito em apenas uma modalidade ou em três. As modalidades esportivas são: NATAÇÃO, CICLISMO E CORRIDA. Você é o responsável pelas inscrições e deverá analisar as listagens com as inscrições e realizar as seguintes ações corretivas:\n",
        "\n",
        "14.1. Para cada uma das três modalidades, verifique se o mesmo aluno se inscreveu mais de uma vez e exclua exclua os nomes duplicados.\n",
        "\n",
        "14.2. Em seguida, contabilize a quantidade de alunos inscritos em\n",
        "cada modalidade e imprima os três valores\n",
        "\n",
        "14.3 Imprima uma listagem com o nome de todos os alunos nas 3 modalidades e a quantidade total de alunos, somadas as 3 modalidades.\n",
        "\n",
        "14.4 Imprima uma listagem com o nome de cada aluno e as modalidades em que está inscrito\n",
        "\n",
        "14.5 Imprima uma listagem com os alunos que se inscreveram em apenas 1 ou em 3 modalidades"
      ]
    },
    {
      "cell_type": "code",
      "source": [
        "natacao = [\"Nicolas da Silva\", \"Marcos Santos\", \"Luciana Barbosa\", \"Ana Schimidt\", \"Marcos Santos\", \"Joana Ramos\", \"André Consentino\", \"Marcela Rangel\", \"Luciana Barbosa\", \"Carlos Antunes\"]\n",
        "ciclismo = [\"Nicolas da Silva\", \"Marcos Santos\", \"Luciana Barbosa\", \"Ana Schimidt\", \"Marcos Santos\",\"Marcela Rangel\", \"Michele Souza\", \"Marcelo Bach\", \"Luis Pereira\"]\n",
        "corrida = [\"Marcos Santos\", \"Luciana Barbosa\", \"Ana Schimidt\", \"Marcos Santos\", \"Luis Pereira\", \"Joana Ramos\", \"André Consentino\",\"Marcela Rangel\", \"Luis Gomes\", \"Luciana Barbosa\"]"
      ],
      "metadata": {
        "id": "6bkyhKMoOUL6"
      },
      "execution_count": null,
      "outputs": []
    },
    {
      "cell_type": "markdown",
      "metadata": {
        "id": "bSb8PexdoaCv"
      },
      "source": [
        "15) Abaixo é apresentado um dicionário contendo os seguintes dados de alguns vencedores do Prêmio Nobel da Paz:\n",
        "{Ano da premiação: (Nome, País de Origem, Ano de Nascimento, Motivação do prêmio, gênero (Feminino, Masculino ou Organização))}\n",
        "\n",
        "Faça o que se pede nos subtitens 15.1 e 15.2"
      ]
    },
    {
      "cell_type": "code",
      "metadata": {
        "id": "Lq5POuTjuV93"
      },
      "source": [
        "nobel = {2011: [['Ellen Jonhson Sirleaf', 'Liberia', 1938, 'woman rights', \"F\"],['Leymah Gbowee', 'Liberia', 1972, 'woman rights', 'F'], ['Tawakkol', 'Liberia', 1979, 'woman rights', 'F' ]],\n",
        "         2012: ['Eurpean Union', 'Europe', 1952, 'human rights','O'],\n",
        "         2013: ['Organization for the Prohibition of Chemical Weapons', 'The Netherlands', 1997, 'eliminate chemical weapons', 'O'],\n",
        "         2014: [['Kailash Satyarthi', 'India', 1954, 'children education', 'M'], ['Malala Yousafzai', 'Pakistan', 1997, 'children education', 'O']],\n",
        "         2015: ['National Dialogue Quartet', 'Tunisia', 2011, 'democracy', 'O'],\n",
        "         2016: ['Juan Manuel Santos', 'Colombia', 1951, 'end of civil war', 'O'],\n",
        "         2017: ['International Campaign to Abolish Nuclear Weapons', 'Australia', 2007, 'nuclear weapons prohibition', 'O'],\n",
        "         2018: ['Denis Mukwege', 'Congo', 1955, 'end sexual violation at war', 'M'],\n",
        "         2019: ['Abiy Ahmed Ali', 'Ethiopia', 1976, 'international conflicts', 'M'],\n",
        "         2020: ['World Food Programme', 'Italy', 1961, 'combat hunger', 'O']}"
      ],
      "execution_count": null,
      "outputs": []
    },
    {
      "cell_type": "markdown",
      "metadata": {
        "id": "7DrKKEiSkIDE"
      },
      "source": [
        "15.1) Quais foram os vencedores do Prêmio Nobel da Paz em 2011?"
      ]
    },
    {
      "cell_type": "markdown",
      "metadata": {
        "id": "n9q1gMCblCD7"
      },
      "source": [
        "15.2) Imprima a relação dos países de origem dos laureados com o Prêmio Nobel da Paz na última década."
      ]
    },
    {
      "cell_type": "markdown",
      "metadata": {
        "id": "FTUwk3-Uzikv"
      },
      "source": [
        "16) Em uma competição de salto em distância cada atleta tem direito a três saltos. O resultado do atleta será determinado pela média dos três valores saltos.\n",
        "\n",
        "Você deve fazer um programa que receba:\n",
        "\n",
        "* o nome e as três distâncias alcançadas pelo atleta em seus saltos (via input())\n",
        "* informe o nome, os saltos e a média dos saltos.\n",
        "* O programa deve ser encerrado quando não for informado o nome do atleta.\n",
        "* A saída do programa deve ser conforme o exemplo abaixo:\n",
        "\n",
        "Atleta: Rodrigo\n",
        "\n",
        "Primeiro Salto: 3 m\n",
        "\n",
        "Segundo Salto: 2 m\n",
        "\n",
        "Terceiro Salto: 4 m\n",
        "\n",
        "Resultado final:\n",
        "\n",
        "Atleta: Rodrigo\n",
        "\n",
        "Saltos: 3 - 2 - 4\n",
        "\n",
        "Média dos saltos: 3 m\n"
      ]
    },
    {
      "cell_type": "markdown",
      "metadata": {
        "id": "QGkAi0Sszikw"
      },
      "source": [
        "17) Qual é a diferença entre o **while** e **for**?"
      ]
    },
    {
      "cell_type": "markdown",
      "metadata": {
        "id": "hJr6RsJ0ItTj"
      },
      "source": [
        "RESPOSTA:"
      ]
    },
    {
      "cell_type": "markdown",
      "metadata": {
        "id": "Si6cIK4_zikw"
      },
      "source": [
        "18) Faça um Programa que peça a idade e a altura de 3 pessoas, armazene cada informação na sua respectiva lista e imprima a idade e a altura de cada pessoa."
      ]
    },
    {
      "cell_type": "markdown",
      "metadata": {
        "id": "z-lRJpFtzikx"
      },
      "source": [
        "19) Dados os dois vetores abaixo (listas), faça um programa que leia os dois vetores e gere um terceiro vetor de 20 elementos, cujos valores deverão ser compostos pelos elementos intercalados dos dois outros vetores."
      ]
    },
    {
      "cell_type": "code",
      "source": [
        "a = [0,2,4,6,8,10,12,14,16,18]\n",
        "b = [1,3,5,7,9,11,13,15,17,19]"
      ],
      "metadata": {
        "id": "l9SYH_TCRDXH"
      },
      "execution_count": null,
      "outputs": []
    },
    {
      "cell_type": "markdown",
      "metadata": {
        "id": "4hxJCn2npn_9"
      },
      "source": [
        "20) Faça UMA FUNÇÃO que recebe um valor n e que imprima:\n",
        "  \n",
        "    1\n",
        "  \n",
        "    2   2\n",
        "  \n",
        "    3   3   3\n",
        "  \n",
        "    .....\n",
        "  \n",
        "    n   n   n   n   n   n  ... n"
      ]
    },
    {
      "cell_type": "markdown",
      "metadata": {
        "id": "DO9yCJVWp5g8"
      },
      "source": [
        "21) Faça uma FUNÇÃO que recebe um valor n e que imprima:\n",
        "  \n",
        "  1\n",
        "  \n",
        "  1   2\n",
        "  \n",
        "  1   2   3\n",
        "  \n",
        "  .....\n",
        "  \n",
        "  1   2   3   ...  n"
      ]
    },
    {
      "cell_type": "markdown",
      "metadata": {
        "id": "hmc5JPO1qYUx"
      },
      "source": [
        "22) Faça uma FUNÇÃO que retorne o reverso de um número inteiro passado por parâmetro. Por exemplo: 127 -> 721."
      ]
    },
    {
      "cell_type": "markdown",
      "metadata": {
        "id": "TOxj_Jft9qzu"
      },
      "source": [
        "23) Faça uma função que receba dois vetores com 5 elementos aleatórios e inteiros cada. Sua função deverá retornar um terceiro vetor de 20 elementos, cujos valores deverão ser compostos pelos elementos concatenados dos dois outros vetores."
      ]
    },
    {
      "cell_type": "markdown",
      "metadata": {
        "id": "P3rFzfva9qzz"
      },
      "source": [
        "24) Faça uma função que receba uma string e retorne a quantidade de consoantes que existem nela."
      ]
    },
    {
      "cell_type": "markdown",
      "metadata": {
        "id": "PyO_WDzx9qz3"
      },
      "source": [
        "25) Altere o exercício 24 para que o retorno seja um dicionário, onde a chaves (keys) são as consoantes e os valores (values) são a quantidade de vezes em que a consoante aparece na string"
      ]
    }
  ]
}